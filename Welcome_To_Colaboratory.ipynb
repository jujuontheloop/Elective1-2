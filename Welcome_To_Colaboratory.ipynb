{
  "cells": [
    {
      "cell_type": "markdown",
      "metadata": {
        "id": "view-in-github",
        "colab_type": "text"
      },
      "source": [
        "<a href=\"https://colab.research.google.com/github/jujuontheloop/Elective1-2/blob/main/Welcome_To_Colaboratory.ipynb\" target=\"_parent\"><img src=\"https://colab.research.google.com/assets/colab-badge.svg\" alt=\"Open In Colab\"/></a>"
      ]
    },
    {
      "cell_type": "markdown",
      "source": [
        "##Python Identation"
      ],
      "metadata": {
        "id": "fJ9F_NJ4GhkV"
      }
    },
    {
      "cell_type": "code",
      "source": [
        "if 4>10:\n",
        "  print(\"10 is greater than 4\")\n",
        "else:\n",
        "  print(\"4 is less than 10\")"
      ],
      "metadata": {
        "id": "MOosaftiGk6C",
        "outputId": "50c13852-93bd-47d2-8fa3-48dcf9d58704",
        "colab": {
          "base_uri": "https://localhost:8080/"
        }
      },
      "execution_count": 22,
      "outputs": [
        {
          "output_type": "stream",
          "name": "stdout",
          "text": [
            "4 is less than 10\n"
          ]
        }
      ]
    },
    {
      "cell_type": "code",
      "source": [
        "x='Juju'\n",
        "y= -99999.99\n",
        "print(x)\n",
        "print(y)"
      ],
      "metadata": {
        "id": "1ujleEDgHBc1",
        "outputId": "47c9c550-648d-415d-ed99-aceee3e0004e",
        "colab": {
          "base_uri": "https://localhost:8080/"
        }
      },
      "execution_count": 23,
      "outputs": [
        {
          "output_type": "stream",
          "name": "stdout",
          "text": [
            "Juju\n",
            "-99999.99\n"
          ]
        }
      ]
    },
    {
      "cell_type": "code",
      "source": [
        "print(type(x))\n",
        "print(type(y))"
      ],
      "metadata": {
        "id": "J8Iw1-5dHMfE",
        "outputId": "65055047-312c-4b83-9564-a59f2f9b117a",
        "colab": {
          "base_uri": "https://localhost:8080/"
        }
      },
      "execution_count": 24,
      "outputs": [
        {
          "output_type": "stream",
          "name": "stdout",
          "text": [
            "<class 'str'>\n",
            "<class 'float'>\n"
          ]
        }
      ]
    }
  ],
  "metadata": {
    "colab": {
      "collapsed_sections": [],
      "name": "Welcome To Colaboratory",
      "toc_visible": true,
      "provenance": [],
      "include_colab_link": true
    },
    "kernelspec": {
      "display_name": "Python 3",
      "name": "python3"
    }
  },
  "nbformat": 4,
  "nbformat_minor": 0
}